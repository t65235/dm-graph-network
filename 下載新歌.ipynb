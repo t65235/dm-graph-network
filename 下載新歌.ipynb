{
 "cells": [
  {
   "cell_type": "code",
   "execution_count": 34,
   "metadata": {},
   "outputs": [],
   "source": [
    "import splinter\n",
    "import requests\n",
    "from bs4 import BeautifulSoup\n",
    "import time\n",
    "\n",
    "b = splinter.Browser('chrome')\n",
    "stt=\"光年之外\"\n",
    "\n",
    "url = \"https://www.youtube.com/results?search_query=%s\"%stt\n",
    "resp = requests.get(url)\n",
    "resp = requests.get(url)\n",
    "soup=BeautifulSoup(resp.text, \"html5lib\")\n",
    "a=soup.select(\"h3 > a\")\n",
    "url = \"https://www.youtube.com\"+str(a[0]).split(\"href=\\\"\")[1].split(\"\\\"\")[0]\n",
    "b.visit(url)\n",
    "while True:\n",
    "    soup=BeautifulSoup(b.html, \"lxml\")\n",
    "    a=soup.select('.ytp-time-display,notranslate')[0].get_text().replace(\" \",\"\").split(\"/\")\n",
    "    if a[0] in a[1]:\n",
    "        b.quit()\n",
    "        break\n",
    "        \n"
   ]
  },
  {
   "cell_type": "code",
   "execution_count": 1,
   "metadata": {},
   "outputs": [],
   "source": [
    "def accv2(stt):\n",
    "    stt=stt\n",
    "    url = \"https://www.youtube.com/results?search_query=%s\"%stt\n",
    "    resp = requests.get(url)\n",
    "    soup=BeautifulSoup(resp.text, \"html5lib\")\n",
    "    a=soup.select(\"h3 > a\")\n",
    "    url = \"https://www.youmagictube.com\"+str(a[0]).split(\"href=\\\"\")[1].split(\"\\\"\")[0]\n",
    "    b.visit(url)\n",
    "    course_list = b.find_by_css('button.sv-download-button,sv-download-video-btn')[0]\n",
    "    course_list.click()\n",
    "    time.sleep(10)\n",
    "    course_list = b.find_by_text('MP3 ')\n",
    "    course_list.click()\n",
    "    time.sleep(10)\n",
    "    course_list = b.find_by_css('h1.sv-s-download-link,pre-download-link')[0]\n",
    "    course_list.click()\n",
    "    time.sleep(10)\n",
    "    course_list = b.find_by_text('Click here to start download')\n",
    "    course_list.click()\n",
    "    time.sleep(20)\n",
    "    \n",
    "    "
   ]
  },
  {
   "cell_type": "code",
   "execution_count": 59,
   "metadata": {},
   "outputs": [
    {
     "name": "stdout",
     "output_type": "stream",
     "text": [
      "光年之外\n",
      "平凡之路\n",
      "晴天\n"
     ]
    }
   ],
   "source": [
    "import splinter\n",
    "import requests\n",
    "from bs4 import BeautifulSoup\n",
    "import time\n",
    "stttt=[\"光年之外\",\"平凡之路\",\"晴天\"]\n",
    "b = splinter.Browser('chrome')\n",
    "\n",
    "for stt in stttt:\n",
    "    print(stt)\n",
    "    accv2(stt)\n",
    "b.quit()"
   ]
  }
 ],
 "metadata": {
  "kernelspec": {
   "display_name": "Python 3",
   "language": "python",
   "name": "python3"
  },
  "language_info": {
   "codemirror_mode": {
    "name": "ipython",
    "version": 3
   },
   "file_extension": ".py",
   "mimetype": "text/x-python",
   "name": "python",
   "nbconvert_exporter": "python",
   "pygments_lexer": "ipython3",
   "version": "3.6.1"
  }
 },
 "nbformat": 4,
 "nbformat_minor": 2
}
